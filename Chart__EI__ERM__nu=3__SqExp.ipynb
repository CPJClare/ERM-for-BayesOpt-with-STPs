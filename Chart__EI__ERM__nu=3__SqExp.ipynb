{
 "cells": [
  {
   "cell_type": "code",
   "execution_count": 1,
   "metadata": {},
   "outputs": [],
   "source": [
    "### Import modules:\n",
    "\n",
    "import numpy as np\n",
    "import scipy as sp\n",
    "import pandas as pd\n",
    "import matplotlib.pyplot as plt\n",
    "import random\n",
    "import warnings\n",
    "\n",
    "from pyGPGO.logger import EventLogger\n",
    "from pyGPGO.GPGO import GPGO\n",
    "from pyGPGO.surrogates.tStudentProcess import tStudentProcess, logpdf\n",
    "from pyGPGO.acquisition import Acquisition\n",
    "from pyGPGO.covfunc import squaredExponential\n",
    "\n",
    "from collections import OrderedDict\n",
    "from joblib import Parallel, delayed\n",
    "from numpy.linalg import slogdet, inv, cholesky, solve\n",
    "from scipy.optimize import minimize\n",
    "from scipy.spatial.distance import cdist\n",
    "from scipy.special import gamma\n",
    "from scipy.stats import norm, t\n",
    "from matplotlib.pyplot import rc\n",
    "\n",
    "rc('text', usetex=False)\n",
    "plt.rcParams['text.latex.preamble']=[r'\\usepackage{amsmath}']\n",
    "plt.rcParams['text.latex.preamble'] = [r'\\boldmath']\n",
    "\n",
    "warnings.filterwarnings(\"ignore\", category=FutureWarning)\n",
    "warnings.filterwarnings(\"ignore\", category=RuntimeWarning)\n",
    "warnings.filterwarnings(\"ignore\", category=UserWarning)\n"
   ]
  },
  {
   "cell_type": "code",
   "execution_count": 2,
   "metadata": {},
   "outputs": [],
   "source": [
    "### User-defined - inputs:\n",
    "\n",
    "### Objective Function:\n",
    "obj_func = 'Sine'\n",
    "\n",
    "### Data inputs:\n",
    "n_test = 100\n",
    "set_seed = 888 #initialise pseudo-random number generator, same start-point each time.\n",
    "\n",
    "### Student-t parameter input:\n",
    "nu = 3 # Degree(s)-of-freedom (DF)\n",
    "\n",
    "### Acquisition / Utility function - MLE/Type II:\n",
    "util = 'EI_STP'\n",
    "util_new = 'ERM_STP'\n",
    "\n",
    "### Probabilistic / Surrogate / Stochastic model - MLE/Type II: \n",
    "surrogate_model_stp = 'Student-t Process'\n",
    "\n",
    "### Covariance Function:\n",
    "cov_func = squaredExponential()\n",
    "\n",
    "n_init = 2  # Number of iterations used to initialise Bayesian optimisation; minimum 2\n"
   ]
  },
  {
   "cell_type": "code",
   "execution_count": 3,
   "metadata": {},
   "outputs": [],
   "source": [
    "### Objective Function - Sin(x) 1-D:\n",
    "\n",
    "if obj_func == 'Sine':\n",
    "\n",
    "    def f_syn_polarity(x1_training):\n",
    "        return operator * np.sin(x1_training)\n",
    "        \n",
    "# Constraints:\n",
    "    lb = 0\n",
    "    ub = 2 * np.pi\n",
    "    \n",
    "# Input array dimension(s):\n",
    "    dim = 1\n",
    "\n",
    "# 2-D inputs' parameter bounds:\n",
    "    param = {'x1_training': ('cont', [lb, ub])}\n",
    "    \n",
    "# True y bounds:\n",
    "    y_lb = 1 # targets global maximum \n",
    "    operator = 1 # targets global maximum \n",
    "    y_global_orig = y_lb * operator # targets global maximum\n",
    "    \n",
    "# Test data:\n",
    "    x1_test = np.linspace(lb, ub, n_test)\n",
    "            "
   ]
  },
  {
   "cell_type": "code",
   "execution_count": 4,
   "metadata": {},
   "outputs": [],
   "source": [
    "### Cumulative Regret Calculator:\n",
    "\n",
    "def min_max_array(x):\n",
    "    new_list = []\n",
    "    for i, num in enumerate(x):\n",
    "            new_list.append(np.min(x[0:i+1]))\n",
    "    return new_list\n"
   ]
  },
  {
   "cell_type": "code",
   "execution_count": 9,
   "metadata": {},
   "outputs": [],
   "source": [
    "### Acquisition function derivatives:\n",
    "\n",
    "class Acquisition_new(Acquisition):    \n",
    "    def __init__(self, mode, eps=1e-06, **params):\n",
    "        \n",
    "        self.params = params\n",
    "        self.eps = eps\n",
    "\n",
    "        mode_dict = {\n",
    "            'EI_STP': self.EI_STP,\n",
    "            'ERM_STP': self.ERM_STP\n",
    "        }\n",
    "\n",
    "        self.f = mode_dict[mode]\n",
    "        \n",
    "    \n",
    "    def EI_STP(self, tau, mean, std, nu=3.0):\n",
    "        \n",
    "        gamma = (mean - tau - self.eps) / (std + self.eps)\n",
    "        return gamma * (std + self.eps) * t.cdf(gamma, df=nu) + (std + self.eps) * (nu + gamma ** 2)/(nu - 1) * t.pdf(gamma, df=nu)\n",
    "    \n",
    "    def ERM_STP(self, tau, mean, std, nu=3.0):\n",
    "        \n",
    "        gamma = (mean - y_global_orig - self.eps) / (std + self.eps)\n",
    "        return gamma * (std + self.eps) * t.cdf(gamma, df=nu) + (std + self.eps) * (nu + gamma ** 2)/(nu - 1) * t.pdf(gamma, df=nu)\n",
    "    \n",
    "    def d_eval_stp(self, tau, mean, std, ds, dm, nu=3.0):\n",
    "    \n",
    "        return self.f(tau, mean, std, ds, dm, nu, **self.params)\n"
   ]
  },
  {
   "cell_type": "code",
   "execution_count": 17,
   "metadata": {},
   "outputs": [],
   "source": [
    "### Set iterations:\n",
    "\n",
    "max_iter = 0"
   ]
  },
  {
   "cell_type": "code",
   "execution_count": 20,
   "metadata": {},
   "outputs": [
    {
     "name": "stdout",
     "output_type": "stream",
     "text": [
      "Evaluation \t Proposed point \t  Current eval. \t Best eval.\n",
      "init   \t [5.40077857]. \t  -0.7722701001578773 \t 0.8593619530727911\n",
      "init   \t [1.03402064]. \t  0.8593619530727911 \t 0.8593619530727911\n",
      "Evaluation \t Proposed point \t  Current eval. \t Best eval.\n",
      "init   \t [5.40077857]. \t  -0.7722701001578773 \t 0.8593619530727911\n",
      "init   \t [1.03402064]. \t  0.8593619530727911 \t 0.8593619530727911\n"
     ]
    },
    {
     "data": {
      "image/png": "[encoded data removed]",
      "text/plain": [
       "<Figure size 432x288 with 3 Axes>"
      ]
     },
     "metadata": {},
     "output_type": "display_data"
    }
   ],
   "source": [
    "### Acquisition plots - Student's-t dERM vs dEI:\n",
    "\n",
    "def plot_STPGO(stpgo, param, index, new=True):\n",
    "    x_test = np.linspace(lb, ub, n_test).reshape((n_test, 1))\n",
    "    y_hat, y_var = stpgo.GP.predict(x_test, return_std=True)\n",
    "    std = np.sqrt(y_var)\n",
    "    l, u = y_hat - 3.182 * std, y_hat + 3.182 * std #t-score, 3 DF, 95% confidence (two-tail)\n",
    "    if new:\n",
    "        plt.figure()\n",
    "        plt.subplot(5, 1, 1)\n",
    "        plt.scatter(stpgo.GP.X, stpgo.GP.y, marker ='D', color = 'Orange')\n",
    "        plt.scatter(stpgo.X, stpgo.y, marker ='D', color = 'Orange')\n",
    "        plt.fill_between(x_test.flatten(), l, u, alpha=0.2)\n",
    "        plt.plot(x_test.flatten(), y_hat, color = 'Orange')\n",
    "    plt.subplot(5, 1, index)\n",
    "    a = np.array([-stpgo._acqWrapper(np.atleast_1d(x))[0] for x in x_test]).flatten()\n",
    "    plt.plot(x_test, a, color=colors[index - 2], label=acq_titles[index - 2])\n",
    "    stpgo._optimizeAcq(method='L-BFGS-B', n_start=1000)\n",
    "    plt.axvline(x=stpgo.best)\n",
    "    plt.legend(loc=0)\n",
    "\n",
    "acq_1 = Acquisition_new(util)\n",
    "acq_2 = Acquisition_new(util_new)\n",
    "acq_list = [acq_1, acq_2]\n",
    "param = {'x1_training': ('cont', [0, 2 * np.pi])}\n",
    "\n",
    "new = True\n",
    "colors = ['red', 'blue']\n",
    "acq_titles = ['STP EI ' r'($\\nu$' ' = {})'.format(nu), 'STP ERM ' r'($\\nu$' ' = {})'.format(nu)]\n",
    "\n",
    "for index, acq in enumerate(acq_list):\n",
    "    np.random.seed(set_seed)\n",
    "    stp = tStudentProcess(cov_func, nu = nu)\n",
    "    stpgo = GPGO(stp, acq, f_syn_polarity, param)\n",
    "    stpgo.run(init_evals=n_init, max_iter=max_iter)\n",
    "    plot_STPGO(stpgo, param, index=index+2, new=new)\n",
    "    new = False\n",
    "    \n",
    "title = obj_func\n",
    "plt.suptitle(title, weight = 'bold', family = 'arial')    \n",
    "plt.show()"
   ]
  },
  {
   "cell_type": "code",
   "execution_count": null,
   "metadata": {},
   "outputs": [],
   "source": []
  }
 ],
 "metadata": {
  "kernelspec": {
   "display_name": "Python 3",
   "language": "python",
   "name": "python3"
  },
  "language_info": {
   "codemirror_mode": {
    "name": "ipython",
    "version": 3
   },
   "file_extension": ".py",
   "mimetype": "text/x-python",
   "name": "python",
   "nbconvert_exporter": "python",
   "pygments_lexer": "ipython3",
   "version": "3.6.5"
  }
 },
 "nbformat": 4,
 "nbformat_minor": 2
}
